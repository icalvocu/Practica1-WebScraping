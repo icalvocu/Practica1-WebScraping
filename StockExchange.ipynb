{
 "cells": [
  {
   "cell_type": "code",
   "execution_count": 16,
   "metadata": {},
   "outputs": [],
   "source": [
    "# importamos las librerias necesarias\n",
    "import requests\n",
    "from bs4 import BeautifulSoup\n",
    "import csv\n",
    "\n",
    "# realizamos la peticion http\n",
    "page = requests.get(\"http://www.infobolsa.es/acciones/ibex35\")\n",
    "# parseamos el resultado de string a arbol DOM\n",
    "dom = BeautifulSoup(page.content,'lxml')\n",
    "\n",
    "with open('IBEX35.csv', 'w') as csvfile:\n",
    "    # abrimos el archivo csv (w -> en modo escritura)\n",
    "    csvwritter = csv.writer(csvfile, delimiter=' ',quotechar='|', quoting=csv.QUOTE_MINIMAL)\n",
    "    for div in dom.find_all('div',id='instrumentListTable'):\n",
    "        for names in div.find_all('td',{'class': \"name\"}):\n",
    "            # buscamos los enlaces con el nombre de la cotización\n",
    "            name = names.find('a').getText()\n",
    "            # el siguiente hermano contiene el valor de la cotización\n",
    "            value = names.find_next_sibling().getText().strip()\n",
    "            # buscamos la fecha y hora a la que se asigna el valor y la cotización\n",
    "            time = names.find_parent().find('td',{'class':'hour'}).getText().strip()\n",
    "            # guardamos los valores en el archivo csv\n",
    "            csvwritter.writerow([name,value,time])"
   ]
  },
  {
   "cell_type": "code",
   "execution_count": null,
   "metadata": {},
   "outputs": [],
   "source": []
  }
 ],
 "metadata": {
  "kernelspec": {
   "display_name": "Python 3",
   "language": "python",
   "name": "python3"
  },
  "language_info": {
   "codemirror_mode": {
    "name": "ipython",
    "version": 3
   },
   "file_extension": ".py",
   "mimetype": "text/x-python",
   "name": "python",
   "nbconvert_exporter": "python",
   "pygments_lexer": "ipython3",
   "version": "3.6.5"
  }
 },
 "nbformat": 4,
 "nbformat_minor": 2
}
